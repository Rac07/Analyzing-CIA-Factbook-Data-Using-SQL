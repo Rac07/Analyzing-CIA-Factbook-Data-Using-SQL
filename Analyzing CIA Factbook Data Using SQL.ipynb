{
 "cells": [
  {
   "cell_type": "markdown",
   "id": "e806e38b",
   "metadata": {},
   "source": [
    "# Analyzing CIA Factbook Data Using SQL\n",
    "\n",
    "### Introduction\n",
    "\n",
    "In this project, we'll work with data from the [CIA World Factbook](https://www.cia.gov/the-world-factbook/)(2015), a compendium of statistics about all of the countries on Earth. The Factbook contains demographic information like the following:\n",
    "\n",
    "- population - The global population\n",
    "- population_growth - the annual population growth rate, as a percentage\n",
    "- area - the total land and water area\n",
    "\n",
    "The SQLite `factbook.db` database can be downloaded [here.](https://dsserver-prod-resources-1.s3.amazonaws.com/257/factbook.db)\n",
    "\n",
    "We'll use the following code to connect our jupyter notebook to our database file:"
   ]
  },
  {
   "cell_type": "code",
   "execution_count": 1,
   "id": "fcc8af26",
   "metadata": {},
   "outputs": [],
   "source": [
    "%reload_ext sql\n"
   ]
  },
  {
   "cell_type": "code",
   "execution_count": 2,
   "id": "3e9f7afc",
   "metadata": {},
   "outputs": [],
   "source": [
    "%sql sqlite:///factbook.db"
   ]
  },
  {
   "cell_type": "markdown",
   "id": "a2efb7fd",
   "metadata": {},
   "source": [
    "To run SQL queries in this project, we add **%%sql** on its own line to start of every query. \n",
    "\n",
    "### Data Overview\n",
    "\n",
    "Let's start by getting information on the tables in the database."
   ]
  },
  {
   "cell_type": "code",
   "execution_count": 3,
   "id": "3d57a9c3",
   "metadata": {},
   "outputs": [
    {
     "name": "stdout",
     "output_type": "stream",
     "text": [
      " * sqlite:///factbook.db\n",
      "Done.\n"
     ]
    },
    {
     "data": {
      "text/html": [
       "<table>\n",
       "    <tr>\n",
       "        <th>type</th>\n",
       "        <th>name</th>\n",
       "        <th>tbl_name</th>\n",
       "        <th>rootpage</th>\n",
       "        <th>sql</th>\n",
       "    </tr>\n",
       "    <tr>\n",
       "        <td>table</td>\n",
       "        <td>sqlite_sequence</td>\n",
       "        <td>sqlite_sequence</td>\n",
       "        <td>3</td>\n",
       "        <td>CREATE TABLE sqlite_sequence(name,seq)</td>\n",
       "    </tr>\n",
       "    <tr>\n",
       "        <td>table</td>\n",
       "        <td>facts</td>\n",
       "        <td>facts</td>\n",
       "        <td>47</td>\n",
       "        <td>CREATE TABLE &quot;facts&quot; (&quot;id&quot; INTEGER PRIMARY KEY AUTOINCREMENT NOT NULL, &quot;code&quot; varchar(255) NOT NULL, &quot;name&quot; varchar(255) NOT NULL, &quot;area&quot; integer, &quot;area_land&quot; integer, &quot;area_water&quot; integer, &quot;population&quot; integer, &quot;population_growth&quot; float, &quot;birth_rate&quot; float, &quot;death_rate&quot; float, &quot;migration_rate&quot; float)</td>\n",
       "    </tr>\n",
       "</table>"
      ],
      "text/plain": [
       "[('table', 'sqlite_sequence', 'sqlite_sequence', 3, 'CREATE TABLE sqlite_sequence(name,seq)'),\n",
       " ('table', 'facts', 'facts', 47, 'CREATE TABLE \"facts\" (\"id\" INTEGER PRIMARY KEY AUTOINCREMENT NOT NULL, \"code\" varchar(255) NOT NULL, \"name\" varchar(255) NOT NULL, \"area\" integer, \"a ... (4 characters truncated) ... land\" integer, \"area_water\" integer, \"population\" integer, \"population_growth\" float, \"birth_rate\" float, \"death_rate\" float, \"migration_rate\" float)')]"
      ]
     },
     "execution_count": 3,
     "metadata": {},
     "output_type": "execute_result"
    }
   ],
   "source": [
    "%%sql\n",
    "SELECT *\n",
    "  FROM sqlite_master\n",
    " WHERE type='table';"
   ]
  },
  {
   "cell_type": "code",
   "execution_count": 4,
   "id": "7346eea2",
   "metadata": {},
   "outputs": [
    {
     "name": "stdout",
     "output_type": "stream",
     "text": [
      " * sqlite:///factbook.db\n",
      "Done.\n"
     ]
    },
    {
     "data": {
      "text/html": [
       "<table>\n",
       "    <tr>\n",
       "        <th>name</th>\n",
       "        <th>seq</th>\n",
       "    </tr>\n",
       "    <tr>\n",
       "        <td>facts</td>\n",
       "        <td>261</td>\n",
       "    </tr>\n",
       "</table>"
      ],
      "text/plain": [
       "[('facts', 261)]"
      ]
     },
     "execution_count": 4,
     "metadata": {},
     "output_type": "execute_result"
    }
   ],
   "source": [
    "%%sql\n",
    "SELECT *\n",
    "  FROM sqlite_sequence;"
   ]
  },
  {
   "cell_type": "markdown",
   "id": "fff1e3d4",
   "metadata": {},
   "source": [
    "As we can see above, apart from an internal automatically created table `sqlite_sequence`, we have a table called `facts` with 261 rows, with which we're going to work in this project.\n",
    "\n",
    "Let's have a look at the first five rows:"
   ]
  },
  {
   "cell_type": "code",
   "execution_count": 5,
   "id": "02ae1b47",
   "metadata": {},
   "outputs": [
    {
     "name": "stdout",
     "output_type": "stream",
     "text": [
      " * sqlite:///factbook.db\n",
      "Done.\n"
     ]
    },
    {
     "data": {
      "text/html": [
       "<table>\n",
       "    <tr>\n",
       "        <th>id</th>\n",
       "        <th>code</th>\n",
       "        <th>name</th>\n",
       "        <th>area</th>\n",
       "        <th>area_land</th>\n",
       "        <th>area_water</th>\n",
       "        <th>population</th>\n",
       "        <th>population_growth</th>\n",
       "        <th>birth_rate</th>\n",
       "        <th>death_rate</th>\n",
       "        <th>migration_rate</th>\n",
       "    </tr>\n",
       "    <tr>\n",
       "        <td>1</td>\n",
       "        <td>af</td>\n",
       "        <td>Afghanistan</td>\n",
       "        <td>652230</td>\n",
       "        <td>652230</td>\n",
       "        <td>0</td>\n",
       "        <td>32564342</td>\n",
       "        <td>2.32</td>\n",
       "        <td>38.57</td>\n",
       "        <td>13.89</td>\n",
       "        <td>1.51</td>\n",
       "    </tr>\n",
       "    <tr>\n",
       "        <td>2</td>\n",
       "        <td>al</td>\n",
       "        <td>Albania</td>\n",
       "        <td>28748</td>\n",
       "        <td>27398</td>\n",
       "        <td>1350</td>\n",
       "        <td>3029278</td>\n",
       "        <td>0.3</td>\n",
       "        <td>12.92</td>\n",
       "        <td>6.58</td>\n",
       "        <td>3.3</td>\n",
       "    </tr>\n",
       "    <tr>\n",
       "        <td>3</td>\n",
       "        <td>ag</td>\n",
       "        <td>Algeria</td>\n",
       "        <td>2381741</td>\n",
       "        <td>2381741</td>\n",
       "        <td>0</td>\n",
       "        <td>39542166</td>\n",
       "        <td>1.84</td>\n",
       "        <td>23.67</td>\n",
       "        <td>4.31</td>\n",
       "        <td>0.92</td>\n",
       "    </tr>\n",
       "    <tr>\n",
       "        <td>4</td>\n",
       "        <td>an</td>\n",
       "        <td>Andorra</td>\n",
       "        <td>468</td>\n",
       "        <td>468</td>\n",
       "        <td>0</td>\n",
       "        <td>85580</td>\n",
       "        <td>0.12</td>\n",
       "        <td>8.13</td>\n",
       "        <td>6.96</td>\n",
       "        <td>0.0</td>\n",
       "    </tr>\n",
       "    <tr>\n",
       "        <td>5</td>\n",
       "        <td>ao</td>\n",
       "        <td>Angola</td>\n",
       "        <td>1246700</td>\n",
       "        <td>1246700</td>\n",
       "        <td>0</td>\n",
       "        <td>19625353</td>\n",
       "        <td>2.78</td>\n",
       "        <td>38.78</td>\n",
       "        <td>11.49</td>\n",
       "        <td>0.46</td>\n",
       "    </tr>\n",
       "</table>"
      ],
      "text/plain": [
       "[(1, 'af', 'Afghanistan', 652230, 652230, 0, 32564342, 2.32, 38.57, 13.89, 1.51),\n",
       " (2, 'al', 'Albania', 28748, 27398, 1350, 3029278, 0.3, 12.92, 6.58, 3.3),\n",
       " (3, 'ag', 'Algeria', 2381741, 2381741, 0, 39542166, 1.84, 23.67, 4.31, 0.92),\n",
       " (4, 'an', 'Andorra', 468, 468, 0, 85580, 0.12, 8.13, 6.96, 0.0),\n",
       " (5, 'ao', 'Angola', 1246700, 1246700, 0, 19625353, 2.78, 38.78, 11.49, 0.46)]"
      ]
     },
     "execution_count": 5,
     "metadata": {},
     "output_type": "execute_result"
    }
   ],
   "source": [
    "%%sql\n",
    "SELECT *\n",
    "  FROM facts\n",
    " LIMIT 5;"
   ]
  },
  {
   "cell_type": "markdown",
   "id": "179c1ede",
   "metadata": {},
   "source": [
    "As said in the intro, the `facts` table contains demographic and geographic data about all the countries. Since the table contains 261 rows, and since in 2015(the year when this factbook was released) there were 198 countries. Some of the rows must represent other territories or administrative units rather than countries.\n",
    "\n",
    "The coulmn names are mostly self-explantory, here are descriptions for those less evident:\n",
    "\n",
    "- area_land - the country's land area in square kilometers.\n",
    "- area_water - the country's water area in square kilometers.\n",
    "- population_growth - the country's population growth as a percentage.\n",
    "- birth_rate - the number of births per year per 1,000 people.\n",
    "- death_rate - the number of death per year per 1,000 people.\n",
    "- migration_rate - the difference between the number of people entering(immigrants) and leaving(emigrants) a country during the year, per 1,000 people.\n",
    "\n",
    "## Exploring Population Statistics\n",
    "\n",
    "Let's start by calculating some summary statistics for `population`and look for any outlier countries."
   ]
  },
  {
   "cell_type": "code",
   "execution_count": 6,
   "id": "008846cd",
   "metadata": {
    "scrolled": true
   },
   "outputs": [
    {
     "name": "stdout",
     "output_type": "stream",
     "text": [
      " * sqlite:///factbook.db\n",
      "Done.\n"
     ]
    },
    {
     "data": {
      "text/html": [
       "<table>\n",
       "    <tr>\n",
       "        <th>min(population)</th>\n",
       "        <th>max(population)</th>\n",
       "        <th>min(population_growth)</th>\n",
       "        <th>max(population_growth)</th>\n",
       "        <th>round(avg(population))</th>\n",
       "    </tr>\n",
       "    <tr>\n",
       "        <td>0</td>\n",
       "        <td>7256490011</td>\n",
       "        <td>0.0</td>\n",
       "        <td>4.02</td>\n",
       "        <td>62094928.0</td>\n",
       "    </tr>\n",
       "</table>"
      ],
      "text/plain": [
       "[(0, 7256490011, 0.0, 4.02, 62094928.0)]"
      ]
     },
     "execution_count": 6,
     "metadata": {},
     "output_type": "execute_result"
    }
   ],
   "source": [
    "%%sql\n",
    "SELECT min(population),\n",
    "       max(population),\n",
    "       min(population_growth),\n",
    "       max(population_growth),\n",
    "       round(avg(population))\n",
    "  FROM facts"
   ]
  },
  {
   "cell_type": "markdown",
   "id": "42e9e32e",
   "metadata": {},
   "source": [
    "We see a few interesting things in the summary statistics :\n",
    "\n",
    "- There's a country with a population equal to 0.\n",
    "- There's a country with a population of 7.2 billion people, that seems to be the [world population in 2015](https://population.un.org/wpp/Publications/Files/WPP2015_DataBooklet.pdf)\n",
    "\n",
    "Let's use subqueries to zoom in on just these countries without using the specific values."
   ]
  },
  {
   "cell_type": "code",
   "execution_count": 7,
   "id": "2ae3a96b",
   "metadata": {},
   "outputs": [
    {
     "name": "stdout",
     "output_type": "stream",
     "text": [
      " * sqlite:///factbook.db\n",
      "Done.\n"
     ]
    },
    {
     "data": {
      "text/html": [
       "<table>\n",
       "    <tr>\n",
       "        <th>id</th>\n",
       "        <th>code</th>\n",
       "        <th>name</th>\n",
       "        <th>area</th>\n",
       "        <th>area_land</th>\n",
       "        <th>area_water</th>\n",
       "        <th>population</th>\n",
       "        <th>population_growth</th>\n",
       "        <th>birth_rate</th>\n",
       "        <th>death_rate</th>\n",
       "        <th>migration_rate</th>\n",
       "    </tr>\n",
       "    <tr>\n",
       "        <td>250</td>\n",
       "        <td>ay</td>\n",
       "        <td>Antarctica</td>\n",
       "        <td>None</td>\n",
       "        <td>280000</td>\n",
       "        <td>None</td>\n",
       "        <td>0</td>\n",
       "        <td>None</td>\n",
       "        <td>None</td>\n",
       "        <td>None</td>\n",
       "        <td>None</td>\n",
       "    </tr>\n",
       "</table>"
      ],
      "text/plain": [
       "[(250, 'ay', 'Antarctica', None, 280000, None, 0, None, None, None, None)]"
      ]
     },
     "execution_count": 7,
     "metadata": {},
     "output_type": "execute_result"
    }
   ],
   "source": [
    "%%sql\n",
    "SELECT *\n",
    "  FROM facts\n",
    "WHERE population in (SELECT min(population) FROM facts)"
   ]
  },
  {
   "attachments": {},
   "cell_type": "markdown",
   "id": "1097d8bc",
   "metadata": {},
   "source": [
    "This number for Antartica looks reasonable, since, according to the [CIA Factbook page for Antarctica](https://www.cia.gov/the-world-factbook/countries/antarctica/#people-and-society), no indigenous inhabitants, but there are both permanent and summer-only staffed research stations\n"
   ]
  },
  {
   "cell_type": "code",
   "execution_count": 8,
   "id": "1c7bfb98",
   "metadata": {},
   "outputs": [
    {
     "name": "stdout",
     "output_type": "stream",
     "text": [
      " * sqlite:///factbook.db\n",
      "Done.\n"
     ]
    },
    {
     "data": {
      "text/html": [
       "<table>\n",
       "    <tr>\n",
       "        <th>id</th>\n",
       "        <th>code</th>\n",
       "        <th>name</th>\n",
       "        <th>area</th>\n",
       "        <th>area_land</th>\n",
       "        <th>area_water</th>\n",
       "        <th>population</th>\n",
       "        <th>population_growth</th>\n",
       "        <th>birth_rate</th>\n",
       "        <th>death_rate</th>\n",
       "        <th>migration_rate</th>\n",
       "    </tr>\n",
       "    <tr>\n",
       "        <td>261</td>\n",
       "        <td>xx</td>\n",
       "        <td>World</td>\n",
       "        <td>None</td>\n",
       "        <td>None</td>\n",
       "        <td>None</td>\n",
       "        <td>7256490011</td>\n",
       "        <td>1.08</td>\n",
       "        <td>18.6</td>\n",
       "        <td>7.8</td>\n",
       "        <td>None</td>\n",
       "    </tr>\n",
       "</table>"
      ],
      "text/plain": [
       "[(261, 'xx', 'World', None, None, None, 7256490011, 1.08, 18.6, 7.8, None)]"
      ]
     },
     "execution_count": 8,
     "metadata": {},
     "output_type": "execute_result"
    }
   ],
   "source": [
    "%%sql\n",
    "SELECT *\n",
    "  FROM facts\n",
    "WHERE population in (SELECT max(population) FROM facts)"
   ]
  },
  {
   "cell_type": "markdown",
   "id": "92a5f26d",
   "metadata": {},
   "source": [
    "Hence, we can confirm that the maximum value of `population` just corresponds to the world population in 2015, represented by its own row in the table.\n",
    "\n",
    "Now that we know this, we should recalculate the summary statistics we calculated earlier- this time excluding the row for the whole world"
   ]
  },
  {
   "cell_type": "code",
   "execution_count": 9,
   "id": "d9f880fc",
   "metadata": {},
   "outputs": [
    {
     "name": "stdout",
     "output_type": "stream",
     "text": [
      " * sqlite:///factbook.db\n",
      "Done.\n"
     ]
    },
    {
     "data": {
      "text/html": [
       "<table>\n",
       "    <tr>\n",
       "        <th>min(population)</th>\n",
       "        <th>max(population)</th>\n",
       "        <th>min(population_growth)</th>\n",
       "        <th>max(population_growth)</th>\n",
       "        <th>round(avg(population), 0)</th>\n",
       "    </tr>\n",
       "    <tr>\n",
       "        <td>0</td>\n",
       "        <td>1367485388</td>\n",
       "        <td>0.0</td>\n",
       "        <td>4.02</td>\n",
       "        <td>32242667.0</td>\n",
       "    </tr>\n",
       "</table>"
      ],
      "text/plain": [
       "[(0, 1367485388, 0.0, 4.02, 32242667.0)]"
      ]
     },
     "execution_count": 9,
     "metadata": {},
     "output_type": "execute_result"
    }
   ],
   "source": [
    "%%sql\n",
    "SELECT min(population),   \n",
    "       max(population), \n",
    "       min(population_growth), \n",
    "       max(population_growth),\n",
    "       round(avg(population), 0)\n",
    "    \n",
    "FROM facts\n",
    "WHERE name <> 'World'\n",
    "  AND NAME <> 'Antartctica';"
   ]
  },
  {
   "cell_type": "markdown",
   "id": "cfe809f6",
   "metadata": {},
   "source": [
    "Now the minimum and maximum values look much more plausible. Also, the average population without the outliers decreased to almost half of the previous number.\n",
    "\n",
    "Let's find out what countries have the largest and lowest populations. This time we shall take the look at top 5 and bottom 5 countries."
   ]
  },
  {
   "cell_type": "code",
   "execution_count": 10,
   "id": "e019c87e",
   "metadata": {},
   "outputs": [
    {
     "name": "stdout",
     "output_type": "stream",
     "text": [
      " * sqlite:///factbook.db\n",
      "Done.\n"
     ]
    },
    {
     "data": {
      "text/html": [
       "<table>\n",
       "    <tr>\n",
       "        <th>name</th>\n",
       "        <th>top5_population</th>\n",
       "    </tr>\n",
       "    <tr>\n",
       "        <td>China</td>\n",
       "        <td>1367485388</td>\n",
       "    </tr>\n",
       "    <tr>\n",
       "        <td>India</td>\n",
       "        <td>1251695584</td>\n",
       "    </tr>\n",
       "    <tr>\n",
       "        <td>European Union</td>\n",
       "        <td>513949445</td>\n",
       "    </tr>\n",
       "    <tr>\n",
       "        <td>United States</td>\n",
       "        <td>321368864</td>\n",
       "    </tr>\n",
       "    <tr>\n",
       "        <td>Indonesia</td>\n",
       "        <td>255993674</td>\n",
       "    </tr>\n",
       "</table>"
      ],
      "text/plain": [
       "[('China', 1367485388),\n",
       " ('India', 1251695584),\n",
       " ('European Union', 513949445),\n",
       " ('United States', 321368864),\n",
       " ('Indonesia', 255993674)]"
      ]
     },
     "execution_count": 10,
     "metadata": {},
     "output_type": "execute_result"
    }
   ],
   "source": [
    "%%sql\n",
    "SELECT name, population AS top5_population\n",
    "  FROM facts\n",
    "WHERE name <> 'World'\n",
    "  AND name <> 'Antarctica'\n",
    "ORDER BY population DESC\n",
    "LIMIT 5;"
   ]
  },
  {
   "cell_type": "markdown",
   "id": "ac4e88fe",
   "metadata": {},
   "source": [
    "One more issue appears here: the **European Union** is not a country, we have to exclude this as well"
   ]
  },
  {
   "cell_type": "code",
   "execution_count": 11,
   "id": "53c1a87a",
   "metadata": {},
   "outputs": [
    {
     "name": "stdout",
     "output_type": "stream",
     "text": [
      " * sqlite:///factbook.db\n",
      "Done.\n"
     ]
    },
    {
     "data": {
      "text/html": [
       "<table>\n",
       "    <tr>\n",
       "        <th>name</th>\n",
       "        <th>top5_population</th>\n",
       "    </tr>\n",
       "    <tr>\n",
       "        <td>China</td>\n",
       "        <td>1367485388</td>\n",
       "    </tr>\n",
       "    <tr>\n",
       "        <td>India</td>\n",
       "        <td>1251695584</td>\n",
       "    </tr>\n",
       "    <tr>\n",
       "        <td>United States</td>\n",
       "        <td>321368864</td>\n",
       "    </tr>\n",
       "    <tr>\n",
       "        <td>Indonesia</td>\n",
       "        <td>255993674</td>\n",
       "    </tr>\n",
       "    <tr>\n",
       "        <td>Brazil</td>\n",
       "        <td>204259812</td>\n",
       "    </tr>\n",
       "</table>"
      ],
      "text/plain": [
       "[('China', 1367485388),\n",
       " ('India', 1251695584),\n",
       " ('United States', 321368864),\n",
       " ('Indonesia', 255993674),\n",
       " ('Brazil', 204259812)]"
      ]
     },
     "execution_count": 11,
     "metadata": {},
     "output_type": "execute_result"
    }
   ],
   "source": [
    "%%sql\n",
    "SELECT name, population AS top5_population\n",
    "  FROM facts\n",
    "WHERE name <> 'World'\n",
    "  AND name <> 'Antarctica'\n",
    "  AND name <> 'European Union'\n",
    "ORDER BY population DESC\n",
    "LIMIT 5;"
   ]
  },
  {
   "cell_type": "markdown",
   "id": "c9147d65",
   "metadata": {},
   "source": [
    "We see that most populated country is **China**(Which is a commonly known fact), followed by **India**, then with a huge gap followed by **United States**, **Indonesia** and **Brazil**."
   ]
  },
  {
   "cell_type": "code",
   "execution_count": 12,
   "id": "0685da7e",
   "metadata": {},
   "outputs": [
    {
     "name": "stdout",
     "output_type": "stream",
     "text": [
      " * sqlite:///factbook.db\n",
      "Done.\n"
     ]
    },
    {
     "data": {
      "text/html": [
       "<table>\n",
       "    <tr>\n",
       "        <th>name</th>\n",
       "        <th>bottom5_population</th>\n",
       "    </tr>\n",
       "    <tr>\n",
       "        <td>Pitcairn Islands</td>\n",
       "        <td>48</td>\n",
       "    </tr>\n",
       "    <tr>\n",
       "        <td>Cocos (Keeling) Islands</td>\n",
       "        <td>596</td>\n",
       "    </tr>\n",
       "    <tr>\n",
       "        <td>Holy See (Vatican City)</td>\n",
       "        <td>842</td>\n",
       "    </tr>\n",
       "    <tr>\n",
       "        <td>Niue</td>\n",
       "        <td>1190</td>\n",
       "    </tr>\n",
       "    <tr>\n",
       "        <td>Tokelau</td>\n",
       "        <td>1337</td>\n",
       "    </tr>\n",
       "</table>"
      ],
      "text/plain": [
       "[('Pitcairn Islands', 48),\n",
       " ('Cocos (Keeling) Islands', 596),\n",
       " ('Holy See (Vatican City)', 842),\n",
       " ('Niue', 1190),\n",
       " ('Tokelau', 1337)]"
      ]
     },
     "execution_count": 12,
     "metadata": {},
     "output_type": "execute_result"
    }
   ],
   "source": [
    "%%sql\n",
    "SELECT name, population AS bottom5_population\n",
    "  FROM facts\n",
    "WHERE name <> 'Antarctica'\n",
    "  AND population NOT NULL\n",
    "ORDER BY population\n",
    "LIMIT 5;"
   ]
  },
  {
   "cell_type": "markdown",
   "id": "c28222a4",
   "metadata": {},
   "source": [
    "Looks coherent for the bottom 5 countries. The [Pitcairn Islands](https://en.wikipedia.org/wiki/Pitcairn_Islands) is a group of four volcanic islands in the southern Pacific Ocean that form the sole British Overseas Territory in the Pacific Ocean. Pitcairn is the least populous national jurisdiction in the world.\n",
    "**Niue** and **Tokelau** are alos very isolated islands in the southern Pacific Ocean, while **Cocos Islands** - in the Indian Ocean. Among these, not surprisingly, there is a microstate **Vatican**.\n",
    "\n",
    "In our database, there are some territories with null valued `population`.\n"
   ]
  },
  {
   "cell_type": "code",
   "execution_count": 13,
   "id": "bba0520b",
   "metadata": {},
   "outputs": [
    {
     "name": "stdout",
     "output_type": "stream",
     "text": [
      " * sqlite:///factbook.db\n",
      "Done.\n"
     ]
    },
    {
     "data": {
      "text/html": [
       "<table>\n",
       "    <tr>\n",
       "        <th>name</th>\n",
       "        <th>population</th>\n",
       "    </tr>\n",
       "    <tr>\n",
       "        <td>Ashmore and Cartier Islands</td>\n",
       "        <td>None</td>\n",
       "    </tr>\n",
       "    <tr>\n",
       "        <td>Coral Sea Islands</td>\n",
       "        <td>None</td>\n",
       "    </tr>\n",
       "    <tr>\n",
       "        <td>Heard Island and McDonald Islands</td>\n",
       "        <td>None</td>\n",
       "    </tr>\n",
       "    <tr>\n",
       "        <td>Clipperton Island</td>\n",
       "        <td>None</td>\n",
       "    </tr>\n",
       "    <tr>\n",
       "        <td>French Southern and Antarctic Lands</td>\n",
       "        <td>None</td>\n",
       "    </tr>\n",
       "    <tr>\n",
       "        <td>Bouvet Island</td>\n",
       "        <td>None</td>\n",
       "    </tr>\n",
       "    <tr>\n",
       "        <td>Jan Mayen</td>\n",
       "        <td>None</td>\n",
       "    </tr>\n",
       "    <tr>\n",
       "        <td>British Indian Ocean Territory</td>\n",
       "        <td>None</td>\n",
       "    </tr>\n",
       "    <tr>\n",
       "        <td>South Georgia and South Sandwich Islands</td>\n",
       "        <td>None</td>\n",
       "    </tr>\n",
       "    <tr>\n",
       "        <td>Navassa Island</td>\n",
       "        <td>None</td>\n",
       "    </tr>\n",
       "    <tr>\n",
       "        <td>Wake Island</td>\n",
       "        <td>None</td>\n",
       "    </tr>\n",
       "    <tr>\n",
       "        <td>United States Pacific Island Wildlife Refuges</td>\n",
       "        <td>None</td>\n",
       "    </tr>\n",
       "    <tr>\n",
       "        <td>Paracel Islands</td>\n",
       "        <td>None</td>\n",
       "    </tr>\n",
       "    <tr>\n",
       "        <td>Spratly Islands</td>\n",
       "        <td>None</td>\n",
       "    </tr>\n",
       "    <tr>\n",
       "        <td>Arctic Ocean</td>\n",
       "        <td>None</td>\n",
       "    </tr>\n",
       "    <tr>\n",
       "        <td>Atlantic Ocean</td>\n",
       "        <td>None</td>\n",
       "    </tr>\n",
       "    <tr>\n",
       "        <td>Indian Ocean</td>\n",
       "        <td>None</td>\n",
       "    </tr>\n",
       "    <tr>\n",
       "        <td>Pacific Ocean</td>\n",
       "        <td>None</td>\n",
       "    </tr>\n",
       "    <tr>\n",
       "        <td>Southern Ocean</td>\n",
       "        <td>None</td>\n",
       "    </tr>\n",
       "</table>"
      ],
      "text/plain": [
       "[('Ashmore and Cartier Islands', None),\n",
       " ('Coral Sea Islands', None),\n",
       " ('Heard Island and McDonald Islands', None),\n",
       " ('Clipperton Island', None),\n",
       " ('French Southern and Antarctic Lands', None),\n",
       " ('Bouvet Island', None),\n",
       " ('Jan Mayen', None),\n",
       " ('British Indian Ocean Territory', None),\n",
       " ('South Georgia and South Sandwich Islands', None),\n",
       " ('Navassa Island', None),\n",
       " ('Wake Island', None),\n",
       " ('United States Pacific Island Wildlife Refuges', None),\n",
       " ('Paracel Islands', None),\n",
       " ('Spratly Islands', None),\n",
       " ('Arctic Ocean', None),\n",
       " ('Atlantic Ocean', None),\n",
       " ('Indian Ocean', None),\n",
       " ('Pacific Ocean', None),\n",
       " ('Southern Ocean', None)]"
      ]
     },
     "execution_count": 13,
     "metadata": {},
     "output_type": "execute_result"
    }
   ],
   "source": [
    "%%sql\n",
    "SELECT name, population\n",
    " FROM facts\n",
    "WHERE population IS NULL;"
   ]
  },
  {
   "cell_type": "markdown",
   "id": "8c6823bd",
   "metadata": {},
   "source": [
    "All these territories represent uninhabited islands, or oceans."
   ]
  },
  {
   "cell_type": "markdown",
   "id": "983ccc54",
   "metadata": {},
   "source": [
    "## Exploring Population Density Statistics \n",
    "\n"
   ]
  },
  {
   "cell_type": "markdown",
   "id": "8b72262e",
   "metadata": {},
   "source": [
    "In this section, we're going to find out which countries are the most densely populated and which ones the least.\n",
    "\n",
    "First, let's calculate the average population density in the world, which practically means dividing `population` by `area`. Here and later, we have to:\n",
    "\n",
    "- use `area_land` instead of `area`, for being more precise\n",
    "- exclude null values for both `population` and `area_land`\n",
    "- exclude `area_land`=0 to avoid having 0 in the denominator\n",
    "- exclude the outliers World, European Union, Antartica.\n",
    "\n",
    "Let's have a look once at the outliers again."
   ]
  },
  {
   "cell_type": "code",
   "execution_count": 14,
   "id": "a10ece21",
   "metadata": {},
   "outputs": [
    {
     "name": "stdout",
     "output_type": "stream",
     "text": [
      " * sqlite:///factbook.db\n",
      "Done.\n"
     ]
    },
    {
     "data": {
      "text/html": [
       "<table>\n",
       "    <tr>\n",
       "        <th>name</th>\n",
       "        <th>population</th>\n",
       "        <th>area_land</th>\n",
       "    </tr>\n",
       "    <tr>\n",
       "        <td>European Union</td>\n",
       "        <td>513949445</td>\n",
       "        <td>None</td>\n",
       "    </tr>\n",
       "    <tr>\n",
       "        <td>Antarctica</td>\n",
       "        <td>0</td>\n",
       "        <td>280000</td>\n",
       "    </tr>\n",
       "    <tr>\n",
       "        <td>World</td>\n",
       "        <td>7256490011</td>\n",
       "        <td>None</td>\n",
       "    </tr>\n",
       "</table>"
      ],
      "text/plain": [
       "[('European Union', 513949445, None),\n",
       " ('Antarctica', 0, 280000),\n",
       " ('World', 7256490011, None)]"
      ]
     },
     "execution_count": 14,
     "metadata": {},
     "output_type": "execute_result"
    }
   ],
   "source": [
    "%%sql\n",
    "SELECT name, population, area_land\n",
    "  FROM facts\n",
    "WHERE name = 'World'\n",
    "   OR name = 'European Union'\n",
    "   OR name = 'Antarctica';"
   ]
  },
  {
   "cell_type": "markdown",
   "id": "298f97db",
   "metadata": {},
   "source": [
    "Since according to the result above, we have to keep in mind only the row for `Antarctica`, as the other two outliers have null values for `area_land`.\n",
    "\n",
    "Now we're ready to calculate the average values for the `population`, `area_land` and `population density`"
   ]
  },
  {
   "cell_type": "code",
   "execution_count": 15,
   "id": "0537fecd",
   "metadata": {},
   "outputs": [
    {
     "name": "stdout",
     "output_type": "stream",
     "text": [
      " * sqlite:///factbook.db\n",
      "Done.\n"
     ]
    },
    {
     "data": {
      "text/html": [
       "<table>\n",
       "    <tr>\n",
       "        <th>avg_population</th>\n",
       "        <th>avg_area_land</th>\n",
       "        <th>avg_population_density</th>\n",
       "    </tr>\n",
       "    <tr>\n",
       "        <td>30510198.0</td>\n",
       "        <td>551845.0</td>\n",
       "        <td>55.0</td>\n",
       "    </tr>\n",
       "</table>"
      ],
      "text/plain": [
       "[(30510198.0, 551845.0, 55.0)]"
      ]
     },
     "execution_count": 15,
     "metadata": {},
     "output_type": "execute_result"
    }
   ],
   "source": [
    "%%sql\n",
    "SELECT ROUND(AVG(population),0) AS avg_population,\n",
    "       ROUND(AVG(area_land),0) AS avg_area_land,\n",
    "       ROUND(AVG(population)/AVG(area_land), 0) AS avg_population_density\n",
    "  FROM facts\n",
    " WHERE population NOT NULL\n",
    "   AND area_land NOT NULL\n",
    "   AND area_land <> 0\n",
    "   AND name <> 'Antatctica';\n",
    "    \n"
   ]
  },
  {
   "cell_type": "markdown",
   "id": "53a9cc55",
   "metadata": {},
   "source": [
    "Next, we're going to count the countries with the `population density` above average. We can assume that there will be roughly half of such countries in our database. So let's begin counting this figure."
   ]
  },
  {
   "cell_type": "code",
   "execution_count": 16,
   "id": "74931338",
   "metadata": {},
   "outputs": [
    {
     "name": "stdout",
     "output_type": "stream",
     "text": [
      " * sqlite:///factbook.db\n",
      "Done.\n"
     ]
    },
    {
     "data": {
      "text/html": [
       "<table>\n",
       "    <tr>\n",
       "        <th>count_avg_population_density</th>\n",
       "    </tr>\n",
       "    <tr>\n",
       "        <td>149</td>\n",
       "    </tr>\n",
       "</table>"
      ],
      "text/plain": [
       "[(149,)]"
      ]
     },
     "execution_count": 16,
     "metadata": {},
     "output_type": "execute_result"
    }
   ],
   "source": [
    "%%sql\n",
    "SELECT count(name) AS count_avg_population_density\n",
    "  FROM facts\n",
    " WHERE population NOT NULL\n",
    "   AND area_land NOT NULL\n",
    "    AND area_land <> 0\n",
    "     AND name <> 'Antarctica'\n",
    "        AND population/area_land > (\n",
    "            SELECT AVG(population)/AVG(area_land) \n",
    "              FROM facts\n",
    "               WHERE population NOT NULL\n",
    "                AND area_land NOT NULL\n",
    "                AND area_land <> 0\n",
    "                AND name <> 'Antarctica' \n",
    "                    );\n",
    "        \n",
    "        "
   ]
  },
  {
   "cell_type": "markdown",
   "id": "87827817",
   "metadata": {},
   "source": [
    "Hence, our assumption was right to not to visualize the data, so now let's only look at the *first 20*. "
   ]
  },
  {
   "cell_type": "code",
   "execution_count": 17,
   "id": "6ab401e4",
   "metadata": {
    "scrolled": true
   },
   "outputs": [
    {
     "name": "stdout",
     "output_type": "stream",
     "text": [
      " * sqlite:///factbook.db\n",
      "Done.\n"
     ]
    },
    {
     "data": {
      "text/html": [
       "<table>\n",
       "    <tr>\n",
       "        <th>name</th>\n",
       "        <th>population</th>\n",
       "        <th>area_land</th>\n",
       "        <th>population_density</th>\n",
       "    </tr>\n",
       "    <tr>\n",
       "        <td>Macau</td>\n",
       "        <td>592731</td>\n",
       "        <td>28</td>\n",
       "        <td>21168</td>\n",
       "    </tr>\n",
       "    <tr>\n",
       "        <td>Monaco</td>\n",
       "        <td>30535</td>\n",
       "        <td>2</td>\n",
       "        <td>15267</td>\n",
       "    </tr>\n",
       "    <tr>\n",
       "        <td>Singapore</td>\n",
       "        <td>5674472</td>\n",
       "        <td>687</td>\n",
       "        <td>8259</td>\n",
       "    </tr>\n",
       "    <tr>\n",
       "        <td>Hong Kong</td>\n",
       "        <td>7141106</td>\n",
       "        <td>1073</td>\n",
       "        <td>6655</td>\n",
       "    </tr>\n",
       "    <tr>\n",
       "        <td>Gaza Strip</td>\n",
       "        <td>1869055</td>\n",
       "        <td>360</td>\n",
       "        <td>5191</td>\n",
       "    </tr>\n",
       "    <tr>\n",
       "        <td>Gibraltar</td>\n",
       "        <td>29258</td>\n",
       "        <td>6</td>\n",
       "        <td>4876</td>\n",
       "    </tr>\n",
       "    <tr>\n",
       "        <td>Bahrain</td>\n",
       "        <td>1346613</td>\n",
       "        <td>760</td>\n",
       "        <td>1771</td>\n",
       "    </tr>\n",
       "    <tr>\n",
       "        <td>Maldives</td>\n",
       "        <td>393253</td>\n",
       "        <td>298</td>\n",
       "        <td>1319</td>\n",
       "    </tr>\n",
       "    <tr>\n",
       "        <td>Malta</td>\n",
       "        <td>413965</td>\n",
       "        <td>316</td>\n",
       "        <td>1310</td>\n",
       "    </tr>\n",
       "    <tr>\n",
       "        <td>Bermuda</td>\n",
       "        <td>70196</td>\n",
       "        <td>54</td>\n",
       "        <td>1299</td>\n",
       "    </tr>\n",
       "    <tr>\n",
       "        <td>Bangladesh</td>\n",
       "        <td>168957745</td>\n",
       "        <td>130170</td>\n",
       "        <td>1297</td>\n",
       "    </tr>\n",
       "    <tr>\n",
       "        <td>Sint Maarten</td>\n",
       "        <td>39689</td>\n",
       "        <td>34</td>\n",
       "        <td>1167</td>\n",
       "    </tr>\n",
       "    <tr>\n",
       "        <td>Guernsey</td>\n",
       "        <td>66080</td>\n",
       "        <td>78</td>\n",
       "        <td>847</td>\n",
       "    </tr>\n",
       "    <tr>\n",
       "        <td>Jersey</td>\n",
       "        <td>97294</td>\n",
       "        <td>116</td>\n",
       "        <td>838</td>\n",
       "    </tr>\n",
       "    <tr>\n",
       "        <td>Taiwan</td>\n",
       "        <td>23415126</td>\n",
       "        <td>32260</td>\n",
       "        <td>725</td>\n",
       "    </tr>\n",
       "    <tr>\n",
       "        <td>Barbados</td>\n",
       "        <td>290604</td>\n",
       "        <td>430</td>\n",
       "        <td>675</td>\n",
       "    </tr>\n",
       "    <tr>\n",
       "        <td>Mauritius</td>\n",
       "        <td>1339827</td>\n",
       "        <td>2030</td>\n",
       "        <td>660</td>\n",
       "    </tr>\n",
       "    <tr>\n",
       "        <td>Aruba</td>\n",
       "        <td>112162</td>\n",
       "        <td>180</td>\n",
       "        <td>623</td>\n",
       "    </tr>\n",
       "    <tr>\n",
       "        <td>Lebanon</td>\n",
       "        <td>6184701</td>\n",
       "        <td>10230</td>\n",
       "        <td>604</td>\n",
       "    </tr>\n",
       "    <tr>\n",
       "        <td>Saint Martin</td>\n",
       "        <td>31754</td>\n",
       "        <td>54</td>\n",
       "        <td>588</td>\n",
       "    </tr>\n",
       "</table>"
      ],
      "text/plain": [
       "[('Macau', 592731, 28, 21168),\n",
       " ('Monaco', 30535, 2, 15267),\n",
       " ('Singapore', 5674472, 687, 8259),\n",
       " ('Hong Kong', 7141106, 1073, 6655),\n",
       " ('Gaza Strip', 1869055, 360, 5191),\n",
       " ('Gibraltar', 29258, 6, 4876),\n",
       " ('Bahrain', 1346613, 760, 1771),\n",
       " ('Maldives', 393253, 298, 1319),\n",
       " ('Malta', 413965, 316, 1310),\n",
       " ('Bermuda', 70196, 54, 1299),\n",
       " ('Bangladesh', 168957745, 130170, 1297),\n",
       " ('Sint Maarten', 39689, 34, 1167),\n",
       " ('Guernsey', 66080, 78, 847),\n",
       " ('Jersey', 97294, 116, 838),\n",
       " ('Taiwan', 23415126, 32260, 725),\n",
       " ('Barbados', 290604, 430, 675),\n",
       " ('Mauritius', 1339827, 2030, 660),\n",
       " ('Aruba', 112162, 180, 623),\n",
       " ('Lebanon', 6184701, 10230, 604),\n",
       " ('Saint Martin', 31754, 54, 588)]"
      ]
     },
     "execution_count": 17,
     "metadata": {},
     "output_type": "execute_result"
    }
   ],
   "source": [
    "%%sql\n",
    "SELECT name, population, area_land, population/area_land AS population_density  \n",
    "  FROM facts\n",
    " WHERE population NOT NULL\n",
    "   AND area_land NOT NULL\n",
    "    AND area_land <> 0\n",
    "     AND name <> 'Antarctica'\n",
    "        AND population/area_land > (\n",
    "            SELECT AVG(population)/AVG(area_land) \n",
    "              FROM facts\n",
    "               WHERE population NOT NULL\n",
    "                AND area_land NOT NULL\n",
    "                AND area_land <> 0\n",
    "                AND name <> 'Antarctica')\n",
    " ORDER BY population_density DESC\n",
    " LIMIT 20;"
   ]
  },
  {
   "cell_type": "markdown",
   "id": "03ca0744",
   "metadata": {},
   "source": [
    "According to the result, the `highest population density` is observed in **Macau**, followed with a huge gap by **Monaco**, which is then followed with another huge gap by **Singapore** and **Hong Kong**. In general, as we can observe, these high values are mostly related to **small countries and islands**, with the area being much below average(553,000km2), but also the population below average(30M people). To narrow the subset of all countries with the `population density` above average and to find bigger territories among them, we'll select only those of them, for which both of the following statements are true:\n",
    "\n",
    "- The popualtion is above average\n",
    "- the area_land is below average"
   ]
  },
  {
   "cell_type": "code",
   "execution_count": 18,
   "id": "f122f894",
   "metadata": {
    "scrolled": true
   },
   "outputs": [
    {
     "name": "stdout",
     "output_type": "stream",
     "text": [
      " * sqlite:///factbook.db\n",
      "Done.\n"
     ]
    },
    {
     "data": {
      "text/html": [
       "<table>\n",
       "    <tr>\n",
       "        <th>name</th>\n",
       "        <th>population</th>\n",
       "        <th>area_land</th>\n",
       "        <th>population_density</th>\n",
       "    </tr>\n",
       "    <tr>\n",
       "        <td>Bangladesh</td>\n",
       "        <td>168957745</td>\n",
       "        <td>130170</td>\n",
       "        <td>1297.0</td>\n",
       "    </tr>\n",
       "    <tr>\n",
       "        <td>Korea, South</td>\n",
       "        <td>49115196</td>\n",
       "        <td>96920</td>\n",
       "        <td>506.0</td>\n",
       "    </tr>\n",
       "    <tr>\n",
       "        <td>Japan</td>\n",
       "        <td>126919659</td>\n",
       "        <td>364485</td>\n",
       "        <td>348.0</td>\n",
       "    </tr>\n",
       "    <tr>\n",
       "        <td>Philippines</td>\n",
       "        <td>100998376</td>\n",
       "        <td>298170</td>\n",
       "        <td>338.0</td>\n",
       "    </tr>\n",
       "    <tr>\n",
       "        <td>Vietnam</td>\n",
       "        <td>94348835</td>\n",
       "        <td>310070</td>\n",
       "        <td>304.0</td>\n",
       "    </tr>\n",
       "    <tr>\n",
       "        <td>United Kingdom</td>\n",
       "        <td>64088222</td>\n",
       "        <td>241930</td>\n",
       "        <td>264.0</td>\n",
       "    </tr>\n",
       "    <tr>\n",
       "        <td>Germany</td>\n",
       "        <td>80854408</td>\n",
       "        <td>348672</td>\n",
       "        <td>231.0</td>\n",
       "    </tr>\n",
       "    <tr>\n",
       "        <td>Nepal</td>\n",
       "        <td>31551305</td>\n",
       "        <td>143351</td>\n",
       "        <td>220.0</td>\n",
       "    </tr>\n",
       "    <tr>\n",
       "        <td>Italy</td>\n",
       "        <td>61855120</td>\n",
       "        <td>294140</td>\n",
       "        <td>210.0</td>\n",
       "    </tr>\n",
       "    <tr>\n",
       "        <td>Uganda</td>\n",
       "        <td>37101745</td>\n",
       "        <td>197100</td>\n",
       "        <td>188.0</td>\n",
       "    </tr>\n",
       "    <tr>\n",
       "        <td>Thailand</td>\n",
       "        <td>67976405</td>\n",
       "        <td>510890</td>\n",
       "        <td>133.0</td>\n",
       "    </tr>\n",
       "    <tr>\n",
       "        <td>Poland</td>\n",
       "        <td>38562189</td>\n",
       "        <td>304255</td>\n",
       "        <td>126.0</td>\n",
       "    </tr>\n",
       "    <tr>\n",
       "        <td>Spain</td>\n",
       "        <td>48146134</td>\n",
       "        <td>498980</td>\n",
       "        <td>96.0</td>\n",
       "    </tr>\n",
       "    <tr>\n",
       "        <td>Iraq</td>\n",
       "        <td>37056169</td>\n",
       "        <td>437367</td>\n",
       "        <td>84.0</td>\n",
       "    </tr>\n",
       "    <tr>\n",
       "        <td>Morocco</td>\n",
       "        <td>33322699</td>\n",
       "        <td>446300</td>\n",
       "        <td>74.0</td>\n",
       "    </tr>\n",
       "</table>"
      ],
      "text/plain": [
       "[('Bangladesh', 168957745, 130170, 1297.0),\n",
       " ('Korea, South', 49115196, 96920, 506.0),\n",
       " ('Japan', 126919659, 364485, 348.0),\n",
       " ('Philippines', 100998376, 298170, 338.0),\n",
       " ('Vietnam', 94348835, 310070, 304.0),\n",
       " ('United Kingdom', 64088222, 241930, 264.0),\n",
       " ('Germany', 80854408, 348672, 231.0),\n",
       " ('Nepal', 31551305, 143351, 220.0),\n",
       " ('Italy', 61855120, 294140, 210.0),\n",
       " ('Uganda', 37101745, 197100, 188.0),\n",
       " ('Thailand', 67976405, 510890, 133.0),\n",
       " ('Poland', 38562189, 304255, 126.0),\n",
       " ('Spain', 48146134, 498980, 96.0),\n",
       " ('Iraq', 37056169, 437367, 84.0),\n",
       " ('Morocco', 33322699, 446300, 74.0)]"
      ]
     },
     "execution_count": 18,
     "metadata": {},
     "output_type": "execute_result"
    }
   ],
   "source": [
    "%%sql\n",
    "SELECT name, population, area_land, ROUND(population/area_land) AS population_density\n",
    "  FROM facts\n",
    "WHERE population NOT NULL\n",
    " AND  name <> 'Antarctica'\n",
    "    AND area_land NOT NULL\n",
    "    AND area_land <> 0\n",
    "    AND population > (SELECT AVG(population) FROM facts\n",
    "                     WHERE population NOT NULL\n",
    "                    AND  name <> 'Antarctica'\n",
    "                    AND area_land NOT NULL\n",
    "                    AND area_land <> 0)\n",
    "    AND area_land < (SELECT AVG(area_land) FROM facts\n",
    "                     WHERE population NOT NULL\n",
    "                    AND  name <> 'Antarctica'\n",
    "                    AND area_land NOT NULL\n",
    "                    AND area_land <> 0)\n",
    "ORDER BY population_density DESC\n"
   ]
  },
  {
   "cell_type": "markdown",
   "id": "f1500a45",
   "metadata": {},
   "source": [
    "Our initial subset is now significantly reduced. We can conclude that among the countries with both the `population above average` and the `area below average`, the `highest population density` is related to **Bangladesh**, followed with a huge gap by **South Korea**.\n",
    "\n",
    "Next, we are going to do the same steps for the countries with the population density below average, starting from the *BOTTOM 20*."
   ]
  },
  {
   "cell_type": "code",
   "execution_count": 19,
   "id": "6b8be52d",
   "metadata": {},
   "outputs": [
    {
     "name": "stdout",
     "output_type": "stream",
     "text": [
      " * sqlite:///factbook.db\n",
      "Done.\n"
     ]
    },
    {
     "data": {
      "text/html": [
       "<table>\n",
       "    <tr>\n",
       "        <th>name</th>\n",
       "        <th>population</th>\n",
       "        <th>area_land</th>\n",
       "        <th>population_density</th>\n",
       "    </tr>\n",
       "    <tr>\n",
       "        <td>Greenland</td>\n",
       "        <td>57733</td>\n",
       "        <td>2166086</td>\n",
       "        <td>0.03</td>\n",
       "    </tr>\n",
       "    <tr>\n",
       "        <td>Svalbard</td>\n",
       "        <td>1872</td>\n",
       "        <td>62045</td>\n",
       "        <td>0.03</td>\n",
       "    </tr>\n",
       "    <tr>\n",
       "        <td>Falkland Islands (Islas Malvinas)</td>\n",
       "        <td>3361</td>\n",
       "        <td>12173</td>\n",
       "        <td>0.28</td>\n",
       "    </tr>\n",
       "    <tr>\n",
       "        <td>Pitcairn Islands</td>\n",
       "        <td>48</td>\n",
       "        <td>47</td>\n",
       "        <td>1.02</td>\n",
       "    </tr>\n",
       "    <tr>\n",
       "        <td>Mongolia</td>\n",
       "        <td>2992908</td>\n",
       "        <td>1553556</td>\n",
       "        <td>1.93</td>\n",
       "    </tr>\n",
       "    <tr>\n",
       "        <td>Western Sahara</td>\n",
       "        <td>570866</td>\n",
       "        <td>266000</td>\n",
       "        <td>2.15</td>\n",
       "    </tr>\n",
       "    <tr>\n",
       "        <td>Namibia</td>\n",
       "        <td>2212307</td>\n",
       "        <td>823290</td>\n",
       "        <td>2.69</td>\n",
       "    </tr>\n",
       "    <tr>\n",
       "        <td>Australia</td>\n",
       "        <td>22751014</td>\n",
       "        <td>7682300</td>\n",
       "        <td>2.96</td>\n",
       "    </tr>\n",
       "    <tr>\n",
       "        <td>Iceland</td>\n",
       "        <td>331918</td>\n",
       "        <td>100250</td>\n",
       "        <td>3.31</td>\n",
       "    </tr>\n",
       "    <tr>\n",
       "        <td>Mauritania</td>\n",
       "        <td>3596702</td>\n",
       "        <td>1030700</td>\n",
       "        <td>3.49</td>\n",
       "    </tr>\n",
       "    <tr>\n",
       "        <td>Libya</td>\n",
       "        <td>6411776</td>\n",
       "        <td>1759540</td>\n",
       "        <td>3.64</td>\n",
       "    </tr>\n",
       "    <tr>\n",
       "        <td>Suriname</td>\n",
       "        <td>579633</td>\n",
       "        <td>156000</td>\n",
       "        <td>3.72</td>\n",
       "    </tr>\n",
       "    <tr>\n",
       "        <td>Guyana</td>\n",
       "        <td>735222</td>\n",
       "        <td>196849</td>\n",
       "        <td>3.73</td>\n",
       "    </tr>\n",
       "    <tr>\n",
       "        <td>Botswana</td>\n",
       "        <td>2182719</td>\n",
       "        <td>566730</td>\n",
       "        <td>3.85</td>\n",
       "    </tr>\n",
       "    <tr>\n",
       "        <td>Canada</td>\n",
       "        <td>35099836</td>\n",
       "        <td>9093507</td>\n",
       "        <td>3.86</td>\n",
       "    </tr>\n",
       "    <tr>\n",
       "        <td>Niue</td>\n",
       "        <td>1190</td>\n",
       "        <td>260</td>\n",
       "        <td>4.58</td>\n",
       "    </tr>\n",
       "    <tr>\n",
       "        <td>Gabon</td>\n",
       "        <td>1705336</td>\n",
       "        <td>257667</td>\n",
       "        <td>6.62</td>\n",
       "    </tr>\n",
       "    <tr>\n",
       "        <td>Kazakhstan</td>\n",
       "        <td>18157122</td>\n",
       "        <td>2699700</td>\n",
       "        <td>6.73</td>\n",
       "    </tr>\n",
       "    <tr>\n",
       "        <td>Central African Republic</td>\n",
       "        <td>5391539</td>\n",
       "        <td>622984</td>\n",
       "        <td>8.65</td>\n",
       "    </tr>\n",
       "    <tr>\n",
       "        <td>Russia</td>\n",
       "        <td>142423773</td>\n",
       "        <td>16377742</td>\n",
       "        <td>8.7</td>\n",
       "    </tr>\n",
       "</table>"
      ],
      "text/plain": [
       "[('Greenland', 57733, 2166086, 0.03),\n",
       " ('Svalbard', 1872, 62045, 0.03),\n",
       " ('Falkland Islands (Islas Malvinas)', 3361, 12173, 0.28),\n",
       " ('Pitcairn Islands', 48, 47, 1.02),\n",
       " ('Mongolia', 2992908, 1553556, 1.93),\n",
       " ('Western Sahara', 570866, 266000, 2.15),\n",
       " ('Namibia', 2212307, 823290, 2.69),\n",
       " ('Australia', 22751014, 7682300, 2.96),\n",
       " ('Iceland', 331918, 100250, 3.31),\n",
       " ('Mauritania', 3596702, 1030700, 3.49),\n",
       " ('Libya', 6411776, 1759540, 3.64),\n",
       " ('Suriname', 579633, 156000, 3.72),\n",
       " ('Guyana', 735222, 196849, 3.73),\n",
       " ('Botswana', 2182719, 566730, 3.85),\n",
       " ('Canada', 35099836, 9093507, 3.86),\n",
       " ('Niue', 1190, 260, 4.58),\n",
       " ('Gabon', 1705336, 257667, 6.62),\n",
       " ('Kazakhstan', 18157122, 2699700, 6.73),\n",
       " ('Central African Republic', 5391539, 622984, 8.65),\n",
       " ('Russia', 142423773, 16377742, 8.7)]"
      ]
     },
     "execution_count": 19,
     "metadata": {},
     "output_type": "execute_result"
    }
   ],
   "source": [
    "%%sql\n",
    "SELECT name, population, area_land, ROUND(CAST(population AS Float)/CAST(area_land AS Float), 2) AS population_density  \n",
    "FROM facts\n",
    " WHERE population NOT NULL\n",
    "   AND area_land NOT NULL\n",
    "    AND area_land <> 0\n",
    "     AND name <> 'Antarctica'\n",
    "        AND population_density < (\n",
    "            SELECT AVG(population)/AVG(area_land)\n",
    "              FROM facts\n",
    "               WHERE population NOT NULL\n",
    "                AND area_land NOT NULL\n",
    "                AND area_land <> 0\n",
    "                AND name <> 'Antarctica')\n",
    " ORDER BY population_density\n",
    " LIMIT 20;"
   ]
  },
  {
   "cell_type": "markdown",
   "id": "2ff2c177",
   "metadata": {},
   "source": [
    "The absolute leaders for their `low population density` are **Greenland** and **Svalbard**.\n",
    "\n",
    "Let's put furhter restrictions to this subset and select only those countries, for which both of the following statements are true:\n",
    "\n",
    "- The population is below average\n",
    "- The area_land is above average"
   ]
  },
  {
   "cell_type": "code",
   "execution_count": 20,
   "id": "19c50ca9",
   "metadata": {},
   "outputs": [
    {
     "name": "stdout",
     "output_type": "stream",
     "text": [
      " * sqlite:///factbook.db\n",
      "Done.\n"
     ]
    },
    {
     "data": {
      "text/html": [
       "<table>\n",
       "    <tr>\n",
       "        <th>name</th>\n",
       "        <th>population</th>\n",
       "        <th>area_land</th>\n",
       "        <th>population_density</th>\n",
       "    </tr>\n",
       "    <tr>\n",
       "        <td>Greenland</td>\n",
       "        <td>57733</td>\n",
       "        <td>2166086</td>\n",
       "        <td>0.0</td>\n",
       "    </tr>\n",
       "    <tr>\n",
       "        <td>Mongolia</td>\n",
       "        <td>2992908</td>\n",
       "        <td>1553556</td>\n",
       "        <td>1.0</td>\n",
       "    </tr>\n",
       "    <tr>\n",
       "        <td>Australia</td>\n",
       "        <td>22751014</td>\n",
       "        <td>7682300</td>\n",
       "        <td>2.0</td>\n",
       "    </tr>\n",
       "    <tr>\n",
       "        <td>Namibia</td>\n",
       "        <td>2212307</td>\n",
       "        <td>823290</td>\n",
       "        <td>2.0</td>\n",
       "    </tr>\n",
       "    <tr>\n",
       "        <td>Botswana</td>\n",
       "        <td>2182719</td>\n",
       "        <td>566730</td>\n",
       "        <td>3.0</td>\n",
       "    </tr>\n",
       "    <tr>\n",
       "        <td>Libya</td>\n",
       "        <td>6411776</td>\n",
       "        <td>1759540</td>\n",
       "        <td>3.0</td>\n",
       "    </tr>\n",
       "    <tr>\n",
       "        <td>Mauritania</td>\n",
       "        <td>3596702</td>\n",
       "        <td>1030700</td>\n",
       "        <td>3.0</td>\n",
       "    </tr>\n",
       "    <tr>\n",
       "        <td>Kazakhstan</td>\n",
       "        <td>18157122</td>\n",
       "        <td>2699700</td>\n",
       "        <td>6.0</td>\n",
       "    </tr>\n",
       "    <tr>\n",
       "        <td>Central African Republic</td>\n",
       "        <td>5391539</td>\n",
       "        <td>622984</td>\n",
       "        <td>8.0</td>\n",
       "    </tr>\n",
       "    <tr>\n",
       "        <td>Bolivia</td>\n",
       "        <td>10800882</td>\n",
       "        <td>1083301</td>\n",
       "        <td>9.0</td>\n",
       "    </tr>\n",
       "    <tr>\n",
       "        <td>Chad</td>\n",
       "        <td>11631456</td>\n",
       "        <td>1259200</td>\n",
       "        <td>9.0</td>\n",
       "    </tr>\n",
       "    <tr>\n",
       "        <td>Saudi Arabia</td>\n",
       "        <td>27752316</td>\n",
       "        <td>2149690</td>\n",
       "        <td>12.0</td>\n",
       "    </tr>\n",
       "    <tr>\n",
       "        <td>Mali</td>\n",
       "        <td>16955536</td>\n",
       "        <td>1220190</td>\n",
       "        <td>13.0</td>\n",
       "    </tr>\n",
       "    <tr>\n",
       "        <td>Niger</td>\n",
       "        <td>18045729</td>\n",
       "        <td>1266700</td>\n",
       "        <td>14.0</td>\n",
       "    </tr>\n",
       "    <tr>\n",
       "        <td>Angola</td>\n",
       "        <td>19625353</td>\n",
       "        <td>1246700</td>\n",
       "        <td>15.0</td>\n",
       "    </tr>\n",
       "    <tr>\n",
       "        <td>Somalia</td>\n",
       "        <td>10616380</td>\n",
       "        <td>627337</td>\n",
       "        <td>16.0</td>\n",
       "    </tr>\n",
       "    <tr>\n",
       "        <td>Zambia</td>\n",
       "        <td>15066266</td>\n",
       "        <td>743398</td>\n",
       "        <td>20.0</td>\n",
       "    </tr>\n",
       "    <tr>\n",
       "        <td>Chile</td>\n",
       "        <td>17508260</td>\n",
       "        <td>743812</td>\n",
       "        <td>23.0</td>\n",
       "    </tr>\n",
       "    <tr>\n",
       "        <td>Peru</td>\n",
       "        <td>30444999</td>\n",
       "        <td>1279996</td>\n",
       "        <td>23.0</td>\n",
       "    </tr>\n",
       "    <tr>\n",
       "        <td>Mozambique</td>\n",
       "        <td>25303113</td>\n",
       "        <td>786380</td>\n",
       "        <td>32.0</td>\n",
       "    </tr>\n",
       "    <tr>\n",
       "        <td>Venezuela</td>\n",
       "        <td>29275460</td>\n",
       "        <td>882050</td>\n",
       "        <td>33.0</td>\n",
       "    </tr>\n",
       "    <tr>\n",
       "        <td>Madagascar</td>\n",
       "        <td>23812681</td>\n",
       "        <td>581540</td>\n",
       "        <td>40.0</td>\n",
       "    </tr>\n",
       "</table>"
      ],
      "text/plain": [
       "[('Greenland', 57733, 2166086, 0.0),\n",
       " ('Mongolia', 2992908, 1553556, 1.0),\n",
       " ('Australia', 22751014, 7682300, 2.0),\n",
       " ('Namibia', 2212307, 823290, 2.0),\n",
       " ('Botswana', 2182719, 566730, 3.0),\n",
       " ('Libya', 6411776, 1759540, 3.0),\n",
       " ('Mauritania', 3596702, 1030700, 3.0),\n",
       " ('Kazakhstan', 18157122, 2699700, 6.0),\n",
       " ('Central African Republic', 5391539, 622984, 8.0),\n",
       " ('Bolivia', 10800882, 1083301, 9.0),\n",
       " ('Chad', 11631456, 1259200, 9.0),\n",
       " ('Saudi Arabia', 27752316, 2149690, 12.0),\n",
       " ('Mali', 16955536, 1220190, 13.0),\n",
       " ('Niger', 18045729, 1266700, 14.0),\n",
       " ('Angola', 19625353, 1246700, 15.0),\n",
       " ('Somalia', 10616380, 627337, 16.0),\n",
       " ('Zambia', 15066266, 743398, 20.0),\n",
       " ('Chile', 17508260, 743812, 23.0),\n",
       " ('Peru', 30444999, 1279996, 23.0),\n",
       " ('Mozambique', 25303113, 786380, 32.0),\n",
       " ('Venezuela', 29275460, 882050, 33.0),\n",
       " ('Madagascar', 23812681, 581540, 40.0)]"
      ]
     },
     "execution_count": 20,
     "metadata": {},
     "output_type": "execute_result"
    }
   ],
   "source": [
    "%%sql\n",
    "SELECT name, population, area_land, ROUND(population/area_land) AS population_density\n",
    "  FROM facts\n",
    "WHERE population NOT NULL\n",
    " AND  name <> 'Antarctica'\n",
    "    AND area_land NOT NULL\n",
    "    AND area_land <> 0\n",
    "    AND population < (SELECT AVG(population) FROM facts\n",
    "                     WHERE population NOT NULL\n",
    "                    AND  name <> 'Antarctica'\n",
    "                    AND area_land NOT NULL\n",
    "                    AND area_land <> 0)\n",
    "    AND area_land > (SELECT AVG(area_land) FROM facts\n",
    "                     WHERE population NOT NULL\n",
    "                    AND  name <> 'Antarctica'\n",
    "                    AND area_land NOT NULL\n",
    "                    AND area_land <> 0)\n",
    "ORDER BY population_density\n"
   ]
  },
  {
   "cell_type": "markdown",
   "id": "ac869200",
   "metadata": {},
   "source": [
    "Hence, our second subset is also significantly reduced: now we see `big countries` with relatively `low values of population`, with **Greenland** on the top followed by **Mongolia**, **Namibia** and **Australia**."
   ]
  },
  {
   "cell_type": "markdown",
   "id": "3e121166",
   "metadata": {},
   "source": [
    "## Further Questions\n",
    "## 1. Which country has the highest growth rate?"
   ]
  },
  {
   "cell_type": "code",
   "execution_count": 21,
   "id": "10b3b7b3",
   "metadata": {},
   "outputs": [
    {
     "name": "stdout",
     "output_type": "stream",
     "text": [
      " * sqlite:///factbook.db\n",
      "Done.\n"
     ]
    },
    {
     "data": {
      "text/html": [
       "<table>\n",
       "    <tr>\n",
       "        <th>id</th>\n",
       "        <th>code</th>\n",
       "        <th>name</th>\n",
       "        <th>area</th>\n",
       "        <th>area_land</th>\n",
       "        <th>area_water</th>\n",
       "        <th>population</th>\n",
       "        <th>population_growth</th>\n",
       "        <th>birth_rate</th>\n",
       "        <th>death_rate</th>\n",
       "        <th>migration_rate</th>\n",
       "    </tr>\n",
       "    <tr>\n",
       "        <td>162</td>\n",
       "        <td>od</td>\n",
       "        <td>South Sudan</td>\n",
       "        <td>644329</td>\n",
       "        <td>None</td>\n",
       "        <td>None</td>\n",
       "        <td>12042910</td>\n",
       "        <td>4.02</td>\n",
       "        <td>36.91</td>\n",
       "        <td>8.18</td>\n",
       "        <td>11.47</td>\n",
       "    </tr>\n",
       "</table>"
      ],
      "text/plain": [
       "[(162, 'od', 'South Sudan', 644329, None, None, 12042910, 4.02, 36.91, 8.18, 11.47)]"
      ]
     },
     "execution_count": 21,
     "metadata": {},
     "output_type": "execute_result"
    }
   ],
   "source": [
    "%%sql\n",
    "SELECT *\n",
    "FROM facts\n",
    "ORDER BY population_growth DESC\n",
    "LIMIT 1;"
   ]
  },
  {
   "cell_type": "markdown",
   "id": "ab16c746",
   "metadata": {},
   "source": [
    "## 2. Which countries have the highest ratios of water to land? "
   ]
  },
  {
   "cell_type": "code",
   "execution_count": 22,
   "id": "577144a1",
   "metadata": {},
   "outputs": [
    {
     "name": "stdout",
     "output_type": "stream",
     "text": [
      " * sqlite:///factbook.db\n",
      "Done.\n"
     ]
    },
    {
     "data": {
      "text/html": [
       "<table>\n",
       "    <tr>\n",
       "        <th>id</th>\n",
       "        <th>code</th>\n",
       "        <th>name</th>\n",
       "        <th>area</th>\n",
       "        <th>area_land</th>\n",
       "        <th>area_water</th>\n",
       "        <th>population</th>\n",
       "        <th>population_growth</th>\n",
       "        <th>birth_rate</th>\n",
       "        <th>death_rate</th>\n",
       "        <th>migration_rate</th>\n",
       "        <th>WL</th>\n",
       "    </tr>\n",
       "    <tr>\n",
       "        <td>228</td>\n",
       "        <td>io</td>\n",
       "        <td>British Indian Ocean Territory</td>\n",
       "        <td>54400</td>\n",
       "        <td>60</td>\n",
       "        <td>54340</td>\n",
       "        <td>None</td>\n",
       "        <td>None</td>\n",
       "        <td>None</td>\n",
       "        <td>None</td>\n",
       "        <td>None</td>\n",
       "        <td>905</td>\n",
       "    </tr>\n",
       "    <tr>\n",
       "        <td>247</td>\n",
       "        <td>vq</td>\n",
       "        <td>Virgin Islands</td>\n",
       "        <td>1910</td>\n",
       "        <td>346</td>\n",
       "        <td>1564</td>\n",
       "        <td>103574</td>\n",
       "        <td>0.59</td>\n",
       "        <td>10.31</td>\n",
       "        <td>8.54</td>\n",
       "        <td>7.67</td>\n",
       "        <td>4</td>\n",
       "    </tr>\n",
       "</table>"
      ],
      "text/plain": [
       "[(228, 'io', 'British Indian Ocean Territory', 54400, 60, 54340, None, None, None, None, None, 905),\n",
       " (247, 'vq', 'Virgin Islands', 1910, 346, 1564, 103574, 0.59, 10.31, 8.54, 7.67, 4)]"
      ]
     },
     "execution_count": 22,
     "metadata": {},
     "output_type": "execute_result"
    }
   ],
   "source": [
    "%%sql\n",
    "SELECT *, area_water/area_land AS WL\n",
    "FROM facts\n",
    "WHERE area_water <> 0\n",
    "AND WL <> 0\n",
    "ORDER BY WL DESC\n"
   ]
  },
  {
   "cell_type": "markdown",
   "id": "fd9739b7",
   "metadata": {},
   "source": [
    "## 3.Which countries will add the most people to their populations next year?"
   ]
  },
  {
   "cell_type": "code",
   "execution_count": 23,
   "id": "c0487cc8",
   "metadata": {},
   "outputs": [
    {
     "name": "stdout",
     "output_type": "stream",
     "text": [
      " * sqlite:///factbook.db\n",
      "Done.\n"
     ]
    },
    {
     "data": {
      "text/html": [
       "<table>\n",
       "    <tr>\n",
       "        <th>name</th>\n",
       "        <th>birth_ratio</th>\n",
       "    </tr>\n",
       "    <tr>\n",
       "        <td>Malawi</td>\n",
       "        <td>33.15</td>\n",
       "    </tr>\n",
       "    <tr>\n",
       "        <td>Uganda</td>\n",
       "        <td>33.1</td>\n",
       "    </tr>\n",
       "    <tr>\n",
       "        <td>Niger</td>\n",
       "        <td>33.03</td>\n",
       "    </tr>\n",
       "</table>"
      ],
      "text/plain": [
       "[('Malawi', 33.15), ('Uganda', 33.1), ('Niger', 33.03)]"
      ]
     },
     "execution_count": 23,
     "metadata": {},
     "output_type": "execute_result"
    }
   ],
   "source": [
    "%%sql\n",
    "SELECT name, round(birth_rate - death_rate, 2) AS birth_ratio\n",
    "  FROM facts\n",
    "    WHERE name <> 'World'\n",
    "ORDER BY birth_ratio DESC\n",
    "\n",
    "LIMIT 3;"
   ]
  },
  {
   "cell_type": "markdown",
   "id": "c06d4123",
   "metadata": {},
   "source": [
    "## 4.Which countries have a higher death rate than birth rate?"
   ]
  },
  {
   "cell_type": "code",
   "execution_count": 24,
   "id": "93653c5b",
   "metadata": {},
   "outputs": [
    {
     "name": "stdout",
     "output_type": "stream",
     "text": [
      " * sqlite:///factbook.db\n",
      "Done.\n"
     ]
    },
    {
     "data": {
      "text/html": [
       "<table>\n",
       "    <tr>\n",
       "        <th>name</th>\n",
       "        <th>death_ratio</th>\n",
       "    </tr>\n",
       "    <tr>\n",
       "        <td>Bulgaria</td>\n",
       "        <td>5.52</td>\n",
       "    </tr>\n",
       "    <tr>\n",
       "        <td>Serbia</td>\n",
       "        <td>4.58</td>\n",
       "    </tr>\n",
       "    <tr>\n",
       "        <td>Latvia</td>\n",
       "        <td>4.31</td>\n",
       "    </tr>\n",
       "    <tr>\n",
       "        <td>Lithuania</td>\n",
       "        <td>4.17</td>\n",
       "    </tr>\n",
       "    <tr>\n",
       "        <td>Ukraine</td>\n",
       "        <td>3.74</td>\n",
       "    </tr>\n",
       "</table>"
      ],
      "text/plain": [
       "[('Bulgaria', 5.52),\n",
       " ('Serbia', 4.58),\n",
       " ('Latvia', 4.31),\n",
       " ('Lithuania', 4.17),\n",
       " ('Ukraine', 3.74)]"
      ]
     },
     "execution_count": 24,
     "metadata": {},
     "output_type": "execute_result"
    }
   ],
   "source": [
    "%%sql\n",
    "SELECT name, round(death_rate - birth_rate, 2) AS death_ratio\n",
    " FROM facts\n",
    "WHERE name <> 'World'\n",
    "ORDER BY death_ratio DESC\n",
    "LIMIT 5;"
   ]
  }
 ],
 "metadata": {
  "kernelspec": {
   "display_name": "Python 3",
   "language": "python",
   "name": "python3"
  },
  "language_info": {
   "codemirror_mode": {
    "name": "ipython",
    "version": 3
   },
   "file_extension": ".py",
   "mimetype": "text/x-python",
   "name": "python",
   "nbconvert_exporter": "python",
   "pygments_lexer": "ipython3",
   "version": "3.9.2"
  }
 },
 "nbformat": 4,
 "nbformat_minor": 5
}
